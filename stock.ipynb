{
  "nbformat": 4,
  "nbformat_minor": 0,
  "metadata": {
    "colab": {
      "name": "stock",
      "provenance": [],
      "collapsed_sections": [],
      "authorship_tag": "ABX9TyOOUE3NgInw8sLc1+nKa1wJ",
      "include_colab_link": true
    },
    "kernelspec": {
      "name": "python3",
      "display_name": "Python 3"
    },
    "language_info": {
      "name": "python"
    }
  },
  "cells": [
    {
      "cell_type": "markdown",
      "metadata": {
        "id": "view-in-github",
        "colab_type": "text"
      },
      "source": [
        "<a href=\"https://colab.research.google.com/github/ncavchl/Python-study/blob/master/stock.ipynb\" target=\"_parent\"><img src=\"https://colab.research.google.com/assets/colab-badge.svg\" alt=\"Open In Colab\"/></a>"
      ]
    },
    {
      "cell_type": "code",
      "metadata": {
        "colab": {
          "base_uri": "https://localhost:8080/"
        },
        "id": "IulK4Viz6K_W",
        "outputId": "7a52b762-d0b6-4b30-d0c5-4ecd628a31ae"
      },
      "source": [
        "!pip install yfinance\n",
        "from datetime import datetime\n",
        "import yfinance as yf\n",
        "!pip install -U finance-datareader\n",
        "import FinanceDataReader as fdr\n",
        "\n",
        "from pandas_datareader import data\n",
        "import matplotlib.pyplot as plt\n",
        "import pandas as pd\n",
        "import pandas_datareader as pdr\n",
        "\n",
        "\n",
        "\n",
        "today = datetime.today().strftime(\"%Y-%m-%d\")\n"
      ],
      "execution_count": 14,
      "outputs": [
        {
          "output_type": "stream",
          "text": [
            "Requirement already satisfied: yfinance in /usr/local/lib/python3.7/dist-packages (0.1.59)\n",
            "Requirement already satisfied: multitasking>=0.0.7 in /usr/local/lib/python3.7/dist-packages (from yfinance) (0.0.9)\n",
            "Requirement already satisfied: lxml>=4.5.1 in /usr/local/lib/python3.7/dist-packages (from yfinance) (4.6.3)\n",
            "Requirement already satisfied: numpy>=1.15 in /usr/local/lib/python3.7/dist-packages (from yfinance) (1.19.5)\n",
            "Requirement already satisfied: pandas>=0.24 in /usr/local/lib/python3.7/dist-packages (from yfinance) (1.1.5)\n",
            "Requirement already satisfied: requests>=2.20 in /usr/local/lib/python3.7/dist-packages (from yfinance) (2.23.0)\n",
            "Requirement already satisfied: pytz>=2017.2 in /usr/local/lib/python3.7/dist-packages (from pandas>=0.24->yfinance) (2018.9)\n",
            "Requirement already satisfied: python-dateutil>=2.7.3 in /usr/local/lib/python3.7/dist-packages (from pandas>=0.24->yfinance) (2.8.1)\n",
            "Requirement already satisfied: idna<3,>=2.5 in /usr/local/lib/python3.7/dist-packages (from requests>=2.20->yfinance) (2.10)\n",
            "Requirement already satisfied: urllib3!=1.25.0,!=1.25.1,<1.26,>=1.21.1 in /usr/local/lib/python3.7/dist-packages (from requests>=2.20->yfinance) (1.24.3)\n",
            "Requirement already satisfied: certifi>=2017.4.17 in /usr/local/lib/python3.7/dist-packages (from requests>=2.20->yfinance) (2020.12.5)\n",
            "Requirement already satisfied: chardet<4,>=3.0.2 in /usr/local/lib/python3.7/dist-packages (from requests>=2.20->yfinance) (3.0.4)\n",
            "Requirement already satisfied: six>=1.5 in /usr/local/lib/python3.7/dist-packages (from python-dateutil>=2.7.3->pandas>=0.24->yfinance) (1.15.0)\n",
            "Requirement already up-to-date: finance-datareader in /usr/local/lib/python3.7/dist-packages (0.9.31)\n",
            "Requirement already satisfied, skipping upgrade: requests>=2.3.0 in /usr/local/lib/python3.7/dist-packages (from finance-datareader) (2.23.0)\n",
            "Requirement already satisfied, skipping upgrade: lxml in /usr/local/lib/python3.7/dist-packages (from finance-datareader) (4.6.3)\n",
            "Requirement already satisfied, skipping upgrade: pandas>=0.19.2 in /usr/local/lib/python3.7/dist-packages (from finance-datareader) (1.1.5)\n",
            "Requirement already satisfied, skipping upgrade: tqdm in /usr/local/lib/python3.7/dist-packages (from finance-datareader) (4.41.1)\n",
            "Requirement already satisfied, skipping upgrade: requests-file in /usr/local/lib/python3.7/dist-packages (from finance-datareader) (1.5.1)\n",
            "Requirement already satisfied, skipping upgrade: certifi>=2017.4.17 in /usr/local/lib/python3.7/dist-packages (from requests>=2.3.0->finance-datareader) (2020.12.5)\n",
            "Requirement already satisfied, skipping upgrade: idna<3,>=2.5 in /usr/local/lib/python3.7/dist-packages (from requests>=2.3.0->finance-datareader) (2.10)\n",
            "Requirement already satisfied, skipping upgrade: chardet<4,>=3.0.2 in /usr/local/lib/python3.7/dist-packages (from requests>=2.3.0->finance-datareader) (3.0.4)\n",
            "Requirement already satisfied, skipping upgrade: urllib3!=1.25.0,!=1.25.1,<1.26,>=1.21.1 in /usr/local/lib/python3.7/dist-packages (from requests>=2.3.0->finance-datareader) (1.24.3)\n",
            "Requirement already satisfied, skipping upgrade: pytz>=2017.2 in /usr/local/lib/python3.7/dist-packages (from pandas>=0.19.2->finance-datareader) (2018.9)\n",
            "Requirement already satisfied, skipping upgrade: python-dateutil>=2.7.3 in /usr/local/lib/python3.7/dist-packages (from pandas>=0.19.2->finance-datareader) (2.8.1)\n",
            "Requirement already satisfied, skipping upgrade: numpy>=1.15.4 in /usr/local/lib/python3.7/dist-packages (from pandas>=0.19.2->finance-datareader) (1.19.5)\n",
            "Requirement already satisfied, skipping upgrade: six in /usr/local/lib/python3.7/dist-packages (from requests-file->finance-datareader) (1.15.0)\n"
          ],
          "name": "stdout"
        }
      ]
    },
    {
      "cell_type": "code",
      "metadata": {
        "colab": {
          "base_uri": "https://localhost:8080/",
          "height": 205
        },
        "id": "-xvDYDqR6t_U",
        "outputId": "81238e5d-5783-462c-e883-7cba55e49ea1"
      },
      "source": [
        "for i in range(0, 10):\n",
        "  # stock = str(i) + '.ks'\n",
        "  booland = 000000\n",
        "\n",
        "  print((i + booland))\n",
        "  \n",
        "  # ['005930.ks']\n",
        "  # data = yf.download(stock,start = '2020-03-01')\n",
        "  # print(data['Close'])\n",
        "\n",
        "fdr.__version__"
      ],
      "execution_count": 2,
      "outputs": [
        {
          "output_type": "stream",
          "text": [
            "0\n",
            "1\n",
            "2\n",
            "3\n",
            "4\n",
            "5\n",
            "6\n",
            "7\n",
            "8\n",
            "9\n"
          ],
          "name": "stdout"
        },
        {
          "output_type": "execute_result",
          "data": {
            "application/vnd.google.colaboratory.intrinsic+json": {
              "type": "string"
            },
            "text/plain": [
              "'0.9.31'"
            ]
          },
          "metadata": {
            "tags": []
          },
          "execution_count": 2
        }
      ]
    },
    {
      "cell_type": "code",
      "metadata": {
        "colab": {
          "base_uri": "https://localhost:8080/"
        },
        "id": "LisvE4kKWLUg",
        "outputId": "d234bc18-307f-4303-d6a5-f1974478836e"
      },
      "source": [
        "df_krx = fdr.StockListing('KRX')\n",
        "len(df_krx)\n",
        "# print(df_krx)\n",
        "print(df_krx['Name'][1])"
      ],
      "execution_count": 4,
      "outputs": [
        {
          "output_type": "stream",
          "text": [
            "AJ네트웍스\n"
          ],
          "name": "stdout"
        }
      ]
    },
    {
      "cell_type": "code",
      "metadata": {
        "colab": {
          "base_uri": "https://localhost:8080/",
          "height": 320
        },
        "id": "ExONAGVtXM9D",
        "outputId": "5ab2dc49-c7e6-4faf-dc34-2b4ebe960487"
      },
      "source": [
        "# for index in range(1,len(df_krx)):\n",
        "#   df = fdr.DataReader(df_krx['Symbol'][index], '2021-03-22')\n",
        "#   print('종가 : ', df['Close'][0], '- 기업명 : ', df_krx['Name'][index])\n",
        "  # print(val)\n",
        "# namef = df_krx['Name']\n",
        "# print(namef.index('삼성전자'))\n",
        "\n",
        "\n",
        "start_date = '2021-03-01'\n",
        "end_date = '2021-03-25'\n",
        "google_data = pdr.DataReader('GOOGL','yahoo', start_date, end_date)\n",
        "google_data.head(9)\n",
        "google_data['Close'].plot()"
      ],
      "execution_count": 15,
      "outputs": [
        {
          "output_type": "execute_result",
          "data": {
            "text/plain": [
              "<matplotlib.axes._subplots.AxesSubplot at 0x7f7afbc908d0>"
            ]
          },
          "metadata": {
            "tags": []
          },
          "execution_count": 15
        },
        {
          "output_type": "display_data",
          "data": {
            "image/png": "[encoded data removed]",
            "text/plain": [
              "<Figure size 432x288 with 1 Axes>"
            ]
          },
          "metadata": {
            "tags": [],
            "needs_background": "light"
          }
        }
      ]
    },
    {
      "cell_type": "code",
      "metadata": {
        "colab": {
          "base_uri": "https://localhost:8080/",
          "height": 660
        },
        "id": "-MLT08H4t055",
        "outputId": "5b9e3052-c016-4509-950f-f0cc65fa5a56"
      },
      "source": [
        "korea1 = pdr.DataReader('088980.ks', 'yahoo', start_date, end_date)\n",
        "korea1.head(9)\n",
        "print(korea1['Close'])\n",
        "korea1['Close'].plot()"
      ],
      "execution_count": 16,
      "outputs": [
        {
          "output_type": "stream",
          "text": [
            "Date\n",
            "2021-03-02    11150\n",
            "2021-03-03    11200\n",
            "2021-03-04    11150\n",
            "2021-03-05    11100\n",
            "2021-03-08    11100\n",
            "2021-03-09    11150\n",
            "2021-03-10    11150\n",
            "2021-03-11    11150\n",
            "2021-03-12    11150\n",
            "2021-03-15    11150\n",
            "2021-03-16    11150\n",
            "2021-03-17    11150\n",
            "2021-03-18    11150\n",
            "2021-03-19    11150\n",
            "2021-03-22    11150\n",
            "2021-03-23    11150\n",
            "2021-03-24    11150\n",
            "2021-03-25    11400\n",
            "Name: Close, dtype: int64\n"
          ],
          "name": "stdout"
        },
        {
          "output_type": "execute_result",
          "data": {
            "text/plain": [
              "<matplotlib.axes._subplots.AxesSubplot at 0x7f7afbacda10>"
            ]
          },
          "metadata": {
            "tags": []
          },
          "execution_count": 16
        },
        {
          "output_type": "display_data",
          "data": {
            "image/png": "[encoded data removed]",
            "text/plain": [
              "<Figure size 432x288 with 1 Axes>"
            ]
          },
          "metadata": {
            "tags": [],
            "needs_background": "light"
          }
        }
      ]
    },
    {
      "cell_type": "code",
      "metadata": {
        "id": "meRI50B3ub7e"
      },
      "source": [
        "#https://wendys.tistory.com/174\n",
        "\n",
        "# 종목 타입에 따라 download url이 다름. 종목코드 뒤에 .KS .KQ등이 입력되어야해서 Download Link 구분 필요\n",
        "stock_type = {\n",
        "'kospi': 'stockMkt',\n",
        "'kosdaq': 'kosdaqMkt'\n",
        "}\n",
        "# 회사명으로 주식 종목 코드를 획득할 수 있도록 하는 함수\n",
        "def get_code(df, name):\n",
        "  code = df.query(\"name=='{}'\".format(name))['code'].to_string(index=False)\n",
        "  # 위와같이 code명을 가져오면 앞에 공백이 붙어있는 상황이 발생하여 앞뒤로 sript() 하여 공백 제거\n",
        "  code = code.strip()\n",
        "  return code\n",
        "\n",
        "# download url 조합\n",
        "def get_download_stock(market_type=None):\n",
        "  market_type = stock_type[market_type]\n",
        "  download_link = 'http://kind.krx.co.kr/corpgeneral/corpList.do'\n",
        "  download_link = download_link + '?method=download'\n",
        "  download_link = download_link + '&marketType=' + market_type\n",
        "  df = pd.read_html(download_link, header=0)[0]\n",
        "  return df;\n",
        "# kospi 종목코드 목록 다운로드\n",
        "def get_download_kospi():\n",
        "  df = get_download_stock('kospi')\n",
        "  df.종목코드 = df.종목코드.map('{:06d}.KS'.format)\n",
        "  return df\n",
        "# kosdaq 종목코드 목록 다운로드\n",
        "def get_download_kosdaq():\n",
        "  df = get_download_stock('kosdaq')\n",
        "  df.종목코드 = df.종목코드.map('{:06d}.KQ'.format)\n",
        "  return df\n",
        "\n",
        "# kospi, kosdaq 종목코드 각각 다운로드\n",
        "kospi_df = get_download_kospi()\n",
        "kosdaq_df = get_download_kosdaq()\n",
        "# data frame merge\n",
        "code_df = pd.concat([kospi_df, kosdaq_df])\n",
        "# data frame정리\n",
        "code_df = code_df[['회사명', '종목코드']]\n",
        "# data frame title 변경 '회사명' = name, 종목코드 = 'code'\n",
        "code_df = code_df.rename(columns={'회사명': 'name', '종목코드': 'code'})\n",
        "\n",
        "\n",
        "\n",
        "\n"
      ],
      "execution_count": 36,
      "outputs": []
    },
    {
      "cell_type": "code",
      "metadata": {
        "colab": {
          "base_uri": "https://localhost:8080/",
          "height": 660
        },
        "id": "jdVtCILAvbgv",
        "outputId": "06ab993f-217f-464b-aeda-43ca7f62c237"
      },
      "source": [
        "# 삼성전자의 종목코드 획득. data frame에는 이미 XXXXXX.KX 형태로 조합이 되어있음\n",
        "code = get_code(code_df, '대웅제약')\n",
        "# get_data_yahoo API를 통해서 yahho finance의 주식 종목 데이터를 가져온다.\n",
        "# df = pdr.get_data_yahoo(code)\n",
        "df = pdr.DataReader(code,'yahoo', start_date, end_date)\n",
        "\n",
        "\n",
        "# 표출 기간 설정 \n",
        "start_date = '2021-03-01'\n",
        "end_date = '2021-03-25'\n",
        "\n",
        "print(df['Close'])\n",
        "df['Close'].plot()\n",
        "\n",
        "\n"
      ],
      "execution_count": 48,
      "outputs": [
        {
          "output_type": "stream",
          "text": [
            "Date\n",
            "2021-03-02    135500\n",
            "2021-03-03    136000\n",
            "2021-03-04    130500\n",
            "2021-03-05    128500\n",
            "2021-03-08    125000\n",
            "2021-03-09    121500\n",
            "2021-03-10    120000\n",
            "2021-03-11    123000\n",
            "2021-03-12    124500\n",
            "2021-03-15    123000\n",
            "2021-03-16    126000\n",
            "2021-03-17    132500\n",
            "2021-03-18    130500\n",
            "2021-03-19    131500\n",
            "2021-03-22    128500\n",
            "2021-03-23    127000\n",
            "2021-03-24    129500\n",
            "2021-03-25    128000\n",
            "Name: Close, dtype: int64\n"
          ],
          "name": "stdout"
        },
        {
          "output_type": "execute_result",
          "data": {
            "text/plain": [
              "<matplotlib.axes._subplots.AxesSubplot at 0x7f7af6777790>"
            ]
          },
          "metadata": {
            "tags": []
          },
          "execution_count": 48
        },
        {
          "output_type": "display_data",
          "data": {
            "image/png": "[encoded data removed]",
            "text/plain": [
              "<Figure size 432x288 with 1 Axes>"
            ]
          },
          "metadata": {
            "tags": [],
            "needs_background": "light"
          }
        }
      ]
    },
    {
      "cell_type": "code",
      "metadata": {
        "colab": {
          "base_uri": "https://localhost:8080/"
        },
        "id": "QLa7cfbX0Wcc",
        "outputId": "b07efd9e-c296-4e06-b96f-904b1f4d3ae4"
      },
      "source": [
        "#yahoo 말고 financeDatareader\n",
        "kospi = '^KS11'\n",
        "kosdaq = '^KQ11'\n",
        "kospi50 = '^KS50'\n",
        "kospi100 = '^KS100'\n",
        "krx100 = '^KRX100'\n",
        "ks200 = '^KS200'\n",
        "\n",
        "dji = '^DJI' #다우존스\n",
        "ixic = '^IXIC' #나스닥\n",
        "snp500 = '^US500' #S&P 500\n",
        "\n",
        "\n",
        "\n",
        "# dd = fdr.DataReader('KS11', '2021')\n",
        "dd = pdr.DataReader(kospi,'yahoo', start_date, end_date)\n",
        "print(dd['Close'])"
      ],
      "execution_count": 51,
      "outputs": [
        {
          "output_type": "stream",
          "text": [
            "Date\n",
            "2021-03-02    3043.870117\n",
            "2021-03-03    3082.989990\n",
            "2021-03-04    3043.489990\n",
            "2021-03-05    3026.260010\n",
            "2021-03-08    2996.110107\n",
            "2021-03-09    2976.120117\n",
            "2021-03-10    2958.120117\n",
            "2021-03-11    3013.699951\n",
            "2021-03-12    3054.389893\n",
            "2021-03-15    3045.709961\n",
            "2021-03-16    3067.169922\n",
            "2021-03-17    3047.500000\n",
            "2021-03-18    3066.010010\n",
            "2021-03-19    3039.530029\n",
            "2021-03-22    3035.459961\n",
            "2021-03-23    3004.739990\n",
            "2021-03-24    2996.350098\n",
            "2021-03-25    3008.330078\n",
            "Name: Close, dtype: float64\n"
          ],
          "name": "stdout"
        }
      ]
    }
  ]
}